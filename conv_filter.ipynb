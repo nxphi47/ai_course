{
 "cells": [
  {
   "cell_type": "markdown",
   "metadata": {
    "id": "ExruQlC_56MK",
    "colab_type": "text"
   },
   "source": [
    "# Convolutional filter\n",
    "\n",
    "![alt text](http://deeplearning.stanford.edu/wiki/images/6/6c/Convolution_schematic.gif)\n",
    "> \n",
    "This code implements a function that computes the 2D Cross-Correlation (same as convolution but without flipping the kernel) between an image and a convolutional filter (we still call it convolutional for simplicity).\n",
    "The function accepts the following parameters:\n",
    "## Image\n",
    "The 2D numpy array of size [image_height, image_width]\n",
    "## Kernel\n",
    "The 2D numpy array of size F we are convolving the image with\n",
    "## Stride\n",
    "This parameter determins how many pixels we slide the filter(kernel) when computing the next output pixel.\n",
    "When the stride is 1 then we move the filter one pixel at a time. When the stride is 2 then the filter jumps 2 pixels at a time as we slide it around the input. This will produce smaller output volume spatially.\n",
    "\n",
    "![alt text](http://cs231n.github.io/assets/cnn/stride.jpeg)\n",
    "\n",
    "## Padding\n",
    "This is a usual practice to pad the inputs with zeros around the border. This is done to make the output have the same spatial dimensions as the inputs.\n",
    "\n"
   ]
  },
  {
   "cell_type": "markdown",
   "metadata": {
    "id": "Xsh91HMaF2ol",
    "colab_type": "text"
   },
   "source": [
    "# Now let's implement it\n",
    "## Firstly, with stride=1 and no padding"
   ]
  },
  {
   "cell_type": "code",
   "execution_count": null,
   "metadata": {
    "id": "CfU-HXSO4Wqt",
    "colab_type": "code",
    "colab": {
     "base_uri": "https://localhost:8080/",
     "height": 289.0
    },
    "outputId": "a27b0f63-9112-44b1-ce42-3abbfb0b8574"
   },
   "outputs": [
    {
     "name": "stdout",
     "output_type": "stream",
     "text": [
      "Image:\n",
      "[[1 2 3 4 3]\n",
      " [1 3 4 3 1]\n",
      " [0 1 5 1 0]\n",
      " [1 3 4 3 1]\n",
      " [2 4 3 2 2]]\n",
      "\n",
      " Kernel:\n",
      "[[ 0 -1  0]\n",
      " [-1  5 -1]\n",
      " [ 0 -1  0]]\n",
      "\n",
      " Output:\n",
      "[[ 7  6  5]\n",
      " [-6 15 -6]\n",
      " [ 5  6  7]]\n"
     ]
    }
   ],
   "source": [
    "import numpy as np  # we will use numpy arrays for this part of the assignment\n",
    "\n",
    "def convolve(image, kernel):\n",
    "\t# This function computes the cross-correlation\n",
    "\t# between the image and the kernel\n",
    "\t# Args:\n",
    "\t#   image: a numpy array of size [image_height, image_width]\n",
    "\t#   kernel: a numpy array of size [kernel_height, kernel_width]\n",
    "\t# Returns:\n",
    "\t#   a numpy array of size [output_height, output_width].\n",
    "\n",
    "\tW1 = image.shape[1]  # image_width\n",
    "\tH1 = image.shape[0]  # image_height \n",
    "\tF = kernel.shape[0]  # kernel_heigh = kernel_width    \n",
    "\tassert F == kernel.shape[1]  # make sure the filter is square\n",
    "\tW2 = (W1 - F) + 1  # with of the output, depends on the \n",
    "\tH2 = (H1 - F) + 1  # height of the output\n",
    "\n",
    "\toutput = np.zeros([H2, W2])  # output of the cross-correlation operation\n",
    "\n",
    "\tfor y in range(output.shape[0]):  # loop over every row of the output\n",
    "\t\tfor x in range(output.shape[1]):  # loop over every pixel of the row           \n",
    "\t\t\t# element-wise multiplication of the kernel and the image            \n",
    "\t\t\toutput[y, x] = (kernel * image[y:y + F, x:x + F]).sum()\n",
    "\treturn output.astype(int)\n",
    "\n",
    "\n",
    "image = np.array(\n",
    "\t[[1, 2, 3, 4, 3],\n",
    "\t [1, 3, 4, 3, 1],\n",
    "\t [0, 1, 5, 1, 0],\n",
    "\t [1, 3, 4, 3, 1],\n",
    "\t [2, 4, 3, 2, 2]])  # here's your input image\n",
    "kernel = np.array([[0, -1, 0], [-1, 5, -1], [0, -1, 0]])\n",
    "output = convolve(image, kernel)\n",
    "print(\"Image:\")\n",
    "print(image)\n",
    "print(\"\\n Kernel:\")\n",
    "print(kernel)\n",
    "print(\"\\n Output:\")\n",
    "print(output)\n"
   ]
  },
  {
   "cell_type": "markdown",
   "metadata": {
    "id": "eKt2gA_rGYSr",
    "colab_type": "text"
   },
   "source": [
    "## Now modify lines marked by \"modify code here\" to make it work for strides other than 1 and with zero-padding"
   ]
  },
  {
   "cell_type": "code",
   "execution_count": 20,
   "metadata": {
    "id": "Qewg2M3_GYkC",
    "colab_type": "code",
    "colab": {
     "base_uri": "https://localhost:8080/",
     "height": 442.0
    },
    "outputId": "b4e16aea-105e-4bb9-e625-72b2a8921878"
   },
   "outputs": [
    {
     "name": "stdout",
     "output_type": "stream",
     "text": [
      "Image padded:\n",
      "[[0 0 0 0 0 0 0]\n",
      " [0 1 2 3 4 3 0]\n",
      " [0 1 3 4 3 1 0]\n",
      " [0 0 1 5 1 0 0]\n",
      " [0 1 3 4 3 1 0]\n",
      " [0 2 4 3 2 2 0]\n",
      " [0 0 0 0 0 0 0]]\n",
      "\n",
      " Image:\n",
      "[[1 2 3 4 3]\n",
      " [1 3 4 3 1]\n",
      " [0 1 5 1 0]\n",
      " [1 3 4 3 1]\n",
      " [2 4 3 2 2]]\n",
      "\n",
      " Kernel:\n",
      "[[ 0 -1  0]\n",
      " [-1  5 -1]\n",
      " [ 0 -1  0]]\n",
      "\n",
      " Output:\n",
      "[[ 2  3  5]\n",
      " [ 1  7  6]\n",
      " [-3 -6 15]]\n"
     ]
    }
   ],
   "source": [
    "import numpy as np\n",
    "\n",
    "def convolve_better(image, kernel, stride=1, padding=False):\n",
    "    # This function computes the cross-correlation\n",
    "    # between the image and the kernel\n",
    "    # Args:\n",
    "    #   image: a numpy array of size [image_height, image_width].\n",
    "    #   kernel: a numpy array of size [kernel_height, kernel_width].\n",
    "    #   stride: integer\n",
    "    #   padding: bool value indicating whether zero padding is used or not\n",
    "    # Returns:\n",
    "    #   a numpy array of size [output_height, output_width].\n",
    "    \n",
    "    W1 = image.shape[1] # image_width\n",
    "    H1 = image.shape[0] # image_height\n",
    "    S = stride # determines how many pixels we slide the filter\n",
    "    F = kernel.shape[0] # kernel_heigh = kernel_width    \n",
    "    assert F == kernel.shape[1] # make sure the filter is square\n",
    "    # To correctly compute the dimensions of the output you need to account\n",
    "    # for the amount of pixels added by padding (P)\n",
    "    P = 1 if padding else 0 # number of pixels added with padding \n",
    "                            # around the image border\n",
    "    ############################################################################    \n",
    "    # You need to correctly compute the output image size given:\n",
    "    # 1) input image size (W1, H1)\n",
    "    # 2) Image padding P\n",
    "    # 3) Stride S\n",
    "    # modify code here:\n",
    "    W2 = (W1 - F + 2*0)//1 + 1 # with of the output \n",
    "    H2 = (H1 - F + 2*0)//1 + 1 # height of the output\n",
    "    ############################################################################\n",
    "    \n",
    "    output = np.zeros([H2, W2]) # output of the cross-correlation operation\n",
    "    # Add zero padding to the input image      \n",
    "    if padding:\n",
    "        image_padded = np.zeros((image.shape[0] + 2*P, image.shape[1] + 2*P)).astype(int) \n",
    "        image_padded[P:-P, P:-P] = image\n",
    "        print(\"Image padded:\")\n",
    "        print(image_padded)\n",
    "    else: \n",
    "        image_padded = image\n",
    "        \n",
    "    for y in range(output.shape[0]):     # loop over every row of the output\n",
    "        for x in range(output.shape[1]): # loop over every pixel of the row           \n",
    "            # element-wise multiplication of the kernel and the image            \n",
    "            ####################################################################\n",
    "            # You need to correctly account for the stride other than 1\n",
    "            # modify code here:\n",
    "            output[y,x]=(kernel*image_padded[y:y+F,x:x+F]).sum()             \n",
    "            ####################################################################\n",
    "    return output.astype(int)\n",
    "    \n",
    "image = np.array([[1,2,3,4,3],[1,3,4,3,1],[0,1,5,1,0],[1,3,4,3,1],[2,4,3,2,2]]) \n",
    "kernel = np.array([[0,-1,0],[-1,5,-1],[0,-1,0]])\n",
    "output = convolve_better(image,kernel, stride=1, padding=True) # change parameters here\n",
    "print(\"\\n Image:\")\n",
    "print(image)\n",
    "print(\"\\n Kernel:\")\n",
    "print(kernel)\n",
    "print(\"\\n Output:\")\n",
    "print(output)"
   ]
  }
 ],
 "metadata": {
  "colab": {
   "name": "conv_filter.ipynb",
   "version": "0.3.2",
   "provenance": [],
   "collapsed_sections": []
  },
  "kernelspec": {
   "display_name": "Python 2",
   "language": "python",
   "name": "python2"
  }
 },
 "nbformat": 4,
 "nbformat_minor": 0
}

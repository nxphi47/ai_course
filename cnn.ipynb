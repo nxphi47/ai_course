{
  "nbformat": 4,
  "nbformat_minor": 0,
  "metadata": {
    "colab": {
      "name": "CNN_training-2.ipynb",
      "version": "0.3.2",
      "provenance": [],
      "collapsed_sections": [
        "wtkaAUdtEK3p"
      ]
    },
    "kernelspec": {
      "name": "python3",
      "display_name": "Python 3"
    },
    "accelerator": "TPU"
  },
  "cells": [
    {
      "metadata": {
        "id": "KbsIQpL2gE7S",
        "colab_type": "text"
      },
      "cell_type": "markdown",
      "source": [
        "# Classification of the MNIST handwritten digits using CNNs\n",
        "In this notebook we will do the following steps in order:\n",
        "\n",
        "1. Load and normalizing the MNIST training and test datasets using torchvision\n",
        "2. Define a Neural Network (simple fully connected at first, CNN later)\n",
        "3. Define a loss function\n",
        "4. Train the network on the training split of MNIST\n",
        "5. Test the network on the test split of MNIST\n",
        "\n"
      ]
    },
    {
      "metadata": {
        "id": "mV-ANYHVkObV",
        "colab_type": "text"
      },
      "cell_type": "markdown",
      "source": [
        "## Install Pytorch to Colab VM\n",
        "[Pytorch](https://pytorch.org) is a deep learning framework that allows you to build, train and evaluate various deep learning models, such as CNNs that we are going to work with in this project. "
      ]
    },
    {
      "metadata": {
        "id": "z5Q086C-gA3g",
        "colab_type": "code",
        "outputId": "8041dd71-fbab-4eaf-b2f2-6d2320c15ffa",
        "colab": {
          "base_uri": "https://localhost:8080/",
          "height": 51
        }
      },
      "cell_type": "code",
      "source": [
        "import os\n",
        "import sys    \n",
        "print(\"Python version: {}\".format(sys.version_info[0]))\n",
        "\n",
        "import warnings\n",
        "warnings.filterwarnings('ignore') # to suppress unnecessary warnings\n",
        "\n",
        "try:\n",
        "    import torch\n",
        "    print(\"PyTorch is already installed, good to go!\") \n",
        "except:\n",
        "    from wheel.pep425tags import get_abbr_impl, get_impl_ver, get_abi_tag\n",
        "    platform = '{}{}-{}'.format(get_abbr_impl(), get_impl_ver(), get_abi_tag())\n",
        "    accelerator = 'cu80' if os.path.exists('/opt/bin/nvidia-smi') else 'cpu'\n",
        "    !pip install -q \\\n",
        "      http://download.pytorch.org/whl/{accelerator}/torch-0.4.1-{platform}-linux_x86_64.whl \\\n",
        "      torchvision\n",
        "    print(\"Successfully installed PyTorch!\")\n",
        "    import torch"
      ],
      "execution_count": 1,
      "outputs": [
        {
          "output_type": "stream",
          "text": [
            "Python version: 3\n",
            "Successfully installed PyTorch!\n"
          ],
          "name": "stdout"
        }
      ]
    },
    {
      "metadata": {
        "id": "NiDSviI_dLAL",
        "colab_type": "text"
      },
      "cell_type": "markdown",
      "source": [
        "## Some imports and setup"
      ]
    },
    {
      "metadata": {
        "id": "Ij6gipg0dKAd",
        "colab_type": "code",
        "outputId": "e7884145-24fd-4015-bfcb-64f4f840fe48",
        "colab": {
          "base_uri": "https://localhost:8080/",
          "height": 34
        }
      },
      "cell_type": "code",
      "source": [
        "import torch.nn as nn\n",
        "import torch.nn.functional as F\n",
        "import torch.optim as optim\n",
        "import torchvision\n",
        "from torchvision import datasets, transforms\n",
        "\n",
        "import matplotlib.pyplot as plt  # for plots\n",
        "import numpy as np  # for working with numbers and arrays of numbers\n",
        "\n",
        "use_cuda = torch.cuda.is_available()\n",
        "device = torch.device(\"cuda\" if use_cuda else \"cpu\")\n",
        "kwargs = {'num_workers': 1, 'pin_memory': True} if use_cuda else {}\n",
        "\n",
        "import random\n",
        "seed = 1\n",
        "random.seed(seed)\n",
        "torch.manual_seed(seed)\n",
        "torch.cuda.manual_seed(seed)\n",
        "np.random.seed(seed)\n",
        "print(\"Setup is done!\")"
      ],
      "execution_count": 2,
      "outputs": [
        {
          "output_type": "stream",
          "text": [
            "Setup is done!\n"
          ],
          "name": "stdout"
        }
      ]
    },
    {
      "metadata": {
        "id": "PrSX5XW2bnxe",
        "colab_type": "text"
      },
      "cell_type": "markdown",
      "source": [
        "# 1. Load MNIST data\n",
        "Loading the data into your python script can be a tedious process. Luckily, PyTorch allows us to load the data using the torchvision.datasets classes. It has some of the popular datasets loading proccesses written for you, including the MNIST dataset.\n",
        "The data will be downloaded to the mnist_dir folder on the virtual machine if you run this cell for the first time.\n",
        "## Transforms\n",
        "The output of torchvision datasets are PILImage images of range [0, 1]. We transform them to Tensors of normalized range [-1, 1].\n",
        "PyTorch Tensors are similar to NumPy’s ndarrays, with the addition being that Tensors can also be used on a GPU to accelerate computing.\n",
        "## Iterating through the dataset\n",
        "Let’s put this all together to create a dataset with composed transforms. Every time this dataset is sampled:\n",
        "\n",
        "* An image is read from the file on the fly\n",
        "* Transforms are applied on the read image\n",
        "* We can iterate over the created dataset with a for i in range loop."
      ]
    },
    {
      "metadata": {
        "id": "Ce79OzaF3X5E",
        "colab_type": "code",
        "outputId": "bb508e6e-ab0b-49dc-8c82-c3e4a3b2249f",
        "colab": {
          "base_uri": "https://localhost:8080/",
          "height": 187
        }
      },
      "cell_type": "code",
      "source": [
        "mnist_dir = 'datasets/MNIST' # the directory our data will be downloaded too\n",
        "\n",
        "transformed_dataset = datasets.MNIST(mnist_dir, train=True, download=True,\n",
        "                       transform=transforms.Compose([\n",
        "                           transforms.ToTensor(),\n",
        "                           transforms.Normalize((0.1307,), (0.3081,)) # normalizing to the [-1,1] range\n",
        "                       ]))\n",
        "\n",
        "for i in range(len(transformed_dataset)):\n",
        "    sample = transformed_dataset[i]\n",
        "\n",
        "    print(i, sample[0].size(), sample[1].size())\n",
        "\n",
        "    if i == 3:\n",
        "        break"
      ],
      "execution_count": 3,
      "outputs": [
        {
          "output_type": "stream",
          "text": [
            "Downloading http://yann.lecun.com/exdb/mnist/train-images-idx3-ubyte.gz\n",
            "Downloading http://yann.lecun.com/exdb/mnist/train-labels-idx1-ubyte.gz\n",
            "Downloading http://yann.lecun.com/exdb/mnist/t10k-images-idx3-ubyte.gz\n",
            "Downloading http://yann.lecun.com/exdb/mnist/t10k-labels-idx1-ubyte.gz\n",
            "Processing...\n",
            "Done!\n",
            "0 torch.Size([1, 28, 28]) torch.Size([])\n",
            "1 torch.Size([1, 28, 28]) torch.Size([])\n",
            "2 torch.Size([1, 28, 28]) torch.Size([])\n",
            "3 torch.Size([1, 28, 28]) torch.Size([])\n"
          ],
          "name": "stdout"
        }
      ]
    },
    {
      "metadata": {
        "id": "xbGcOCzd3YTh",
        "colab_type": "text"
      },
      "cell_type": "markdown",
      "source": [
        "However, we are losing a lot of features by using a simple for loop to iterate over the data. In particular, we are missing out on:\n",
        "\n",
        "* Batching the data - images can be processed in bulk instead of one-by-one\n",
        "* Shuffling the data - this is a useful technique of rearranging the order of the images in which our training algorithm will pick images\n",
        "* Load the data in parallel using multiprocessing workers.\n",
        "\n",
        "`torch.utils.data.DataLoader` is an iterator which provides all these features.\n",
        "In the code below we create 2 `DataLoader` objects, one for the training data, and one for the test data\n",
        "\n",
        "To summarize, in order to load the data using PyTorch methods we need to:\n",
        "1. Apply the necessary transforms to the image, in order to make it the same size as the rest and normalized\n",
        "2. Create the `Dataset` object containing the methods to sample a training image\n",
        "3. Create the `DataLoader` object for us to easier iterate over data"
      ]
    },
    {
      "metadata": {
        "id": "bKAvxv0fHvpq",
        "colab_type": "code",
        "outputId": "72c8899e-4ad9-4f1d-f0c2-8cbac80f9b93",
        "colab": {
          "base_uri": "https://localhost:8080/",
          "height": 34
        }
      },
      "cell_type": "code",
      "source": [
        "def load_MNIST(mnist_dir, batch_size, test_batch_size, kwargs):\n",
        "\n",
        "  # Dataloader object is used to organize training data neatly into batches\n",
        "  # it is a part of the PyTorch framework\n",
        "  train_loader = torch.utils.data.DataLoader(\n",
        "        datasets.MNIST(mnist_dir, train=True, download=True,\n",
        "                       transform=transforms.Compose([\n",
        "                           transforms.ToTensor(),\n",
        "                           transforms.Normalize((0.1307,), (0.3081,))\n",
        "                       ])),\n",
        "        batch_size=batch_size, shuffle=True, **kwargs)\n",
        "  test_loader = torch.utils.data.DataLoader(\n",
        "        datasets.MNIST(mnist_dir, train=False, transform=transforms.Compose([\n",
        "                           transforms.ToTensor(),\n",
        "                           transforms.Normalize((0.1307,), (0.3081,))\n",
        "                       ])),\n",
        "        batch_size=test_batch_size, shuffle=True, **kwargs)\n",
        "  \n",
        "  return train_loader, test_loader\n",
        "\n",
        "\n",
        "batch_size = 50 \n",
        "test_batch_size = 100\n",
        "mnist_dir = 'datasets/MNIST' # the directory our data will be downloaded too\n",
        "train_loader, test_loader = load_MNIST(mnist_dir, batch_size, test_batch_size, kwargs)\n",
        "print(\"The MNIST data is loaded successfully!\")"
      ],
      "execution_count": 5,
      "outputs": [
        {
          "output_type": "stream",
          "text": [
            "The MNIST data is loaded successfully!\n"
          ],
          "name": "stdout"
        }
      ]
    },
    {
      "metadata": {
        "id": "k5vIFpUC-gqq",
        "colab_type": "text"
      },
      "cell_type": "markdown",
      "source": [
        "## Look at the data\n",
        "We will sample a small subset of the training data to see what the MNIST data roughly looks like"
      ]
    },
    {
      "metadata": {
        "id": "ET0pU2GrIEdo",
        "colab_type": "code",
        "outputId": "9992acc8-74da-4800-c24e-e5267dda1531",
        "colab": {
          "base_uri": "https://localhost:8080/",
          "height": 763
        }
      },
      "cell_type": "code",
      "source": [
        "# this function is here to show an image\n",
        "def imshow(img, title=None):\n",
        "    npimg = img.numpy()\n",
        "    mean = np.array([0.1307])\n",
        "    std = np.array([0.3081])\n",
        "    npimg = std * npimg + mean # unnormalize\n",
        "    npimg = np.clip(npimg, 0, 1)\n",
        "    npimg = np.transpose(npimg, (1, 2, 0))\n",
        "    npimg = npimg.squeeze()\n",
        "    plt.imshow(npimg)\n",
        "    plt.show\n",
        "    if title is not None:\n",
        "        plt.title(title)\n",
        "    plt.pause(0.001)  # pause a bit so that plots are updated \n",
        "\n",
        "\n",
        "# get some random training images\n",
        "dataiter = iter(train_loader)\n",
        "images, labels = dataiter.next()\n",
        "print(\"One minibatch of MNIST data is a 4D array of shape {}\".format(images.shape))\n",
        "print(\"1st dimension ({}) is the number of images in the minibatch\".format(batch_size))\n",
        "print(\"2nd dimension ({}) is the number of image channels\".format(images.shape[1]))\n",
        "print(\"3rd and 4th dimensions ({0}, {1}) are the spatial size of the image\".format(*images.shape[-2:]))\n",
        "\n",
        "# show images\n",
        "imshow(torchvision.utils.make_grid(images))\n",
        "\n",
        "# show one sample\n",
        "for batch_idx, (data, target) in enumerate(train_loader):\n",
        "  sample = data[0] # change number to any id in the batch \n",
        "  imshow(sample, 'random sample')\n",
        "  break"
      ],
      "execution_count": 6,
      "outputs": [
        {
          "output_type": "stream",
          "text": [
            "One minibatch of MNIST data is a 4D array of shape torch.Size([50, 1, 28, 28])\n",
            "1st dimension (50) is the number of images in the minibatch\n",
            "2nd dimension (1) is the number of image channels\n",
            "3rd and 4th dimensions (28, 28) are the spatial size of the image\n"
          ],
          "name": "stdout"
        },
        {
          "output_type": "display_data",
          "data": {
            "image/png": "[encoded data removed]",
            "text/plain": [
              "<matplotlib.figure.Figure at 0x7fbe76dc4cf8>"
            ]
          },
          "metadata": {
            "tags": []
          }
        },
        {
          "output_type": "display_data",
          "data": {
            "image/png": "[encoded data removed]",
            "text/plain": [
              "<matplotlib.figure.Figure at 0x7fbe765b9908>"
            ]
          },
          "metadata": {
            "tags": []
          }
        }
      ]
    },
    {
      "metadata": {
        "id": "jtAqoD4raT1h",
        "colab_type": "text"
      },
      "cell_type": "markdown",
      "source": [
        "# 2. Define the neural network"
      ]
    },
    {
      "metadata": {
        "id": "G95eWGHgg3w1",
        "colab_type": "text"
      },
      "cell_type": "markdown",
      "source": [
        "## Fully connecter with 1 layer\n",
        "The pixels are represented as a 1D vector of size 784 and fed into a fully connected network with 10 output neurons\n",
        "![alt text](https://codelabs.developers.google.com/codelabs/cloud-tensorflow-mnist/img/d5222c6e3d15770a.png)\n",
        "### Softmax \n",
        "\n",
        "We also use a softmax function to transfer scores (logits) into class probabilities. \\\\\n",
        "Entries are normalized -> sum up to 1\n",
        "\n",
        "![alt text](https://codelabs.developers.google.com/codelabs/cloud-tensorflow-mnist/img/604a9797da2a48d7.png)\n",
        "\n",
        "### Note:\n",
        "The fully-connected layer can be constructed with a `nn.Linear` module, which accepts 2 parameters:\n",
        "\n",
        "* `in_channels` - number of input neurons\n",
        "* `out_channels` - number of output neurons\n",
        "For example, when we have 784 input neurons and 10 output neurons we can initialize our module the following way:\n",
        "```\n",
        "nn.Linear(784,10)\n",
        "```"
      ]
    },
    {
      "metadata": {
        "id": "wy6z4ieXgtCj",
        "colab_type": "code",
        "colab": {}
      },
      "cell_type": "code",
      "source": [
        "class simpleFC(nn.Module):\n",
        "    def __init__(self, input_size=784, num_classes=10):\n",
        "        # declaring operations\n",
        "        super().__init__() # calling the inint method of the superclass (nn.Module)\n",
        "        self.fc1 = nn.Linear(input_size, num_classes) # fully-connected layer\n",
        "    \n",
        "    def forward(self, x):\n",
        "        # defines the forward pass\n",
        "        x = x.view(-1, 784) # here we represent a MNIST image as a vector of pixels\n",
        "        # 784 is the total number of pixels in a 28 by 28 image\n",
        "        out = self.fc1(x) # weighted sum of input and network weights -> Wx+b, b - bias\n",
        "        return F.log_softmax(out, dim=1) # return activations after softmax layer\n",
        "    \n",
        "model = simpleFC().to(device)"
      ],
      "execution_count": 0,
      "outputs": []
    },
    {
      "metadata": {
        "id": "N4BK36y47anC",
        "colab_type": "text"
      },
      "cell_type": "markdown",
      "source": [
        "Here we just defined the forward function. The backward function (where gradients are computed) is automatically defined for us using autograd. Any of the Tensor operations can be used in the forward function."
      ]
    },
    {
      "metadata": {
        "id": "_ptC67ps3ED3",
        "colab_type": "text"
      },
      "cell_type": "markdown",
      "source": [
        "# 3. Define a Loss Function and an Optimizer\n",
        "## Loss? How cross-entropy loss is calculated? \n",
        "Loss is a way to quantifying what it means to have a “good” classifier\n",
        "![alt text](https://codelabs.developers.google.com/codelabs/cloud-tensorflow-mnist/img/1d8fc59e6a674f1c.png) \n",
        "\n",
        "**Note!!!** In Pytorch obtaining log-probabilities in a neural network is easily achieved by adding a  `LogSoftmax`  layer in the last layer of your network and using `NLLLoss` (The negative log likelihood loss)\n",
        "You may use `CrossEntropyLoss` instead, if you prefer not to add an extra layer.\n",
        "\n",
        "## Optimizer\n",
        "The simplest update rule used in practice is the Stochastic Gradient Descent (SGD). This method updates all the weights of the neural net after computing the loss on one batch of images. The SGD update rule, as well as other more complicated optimizers like Nesterov-SGD, Adam, RMSProp, etc, are implemented in the torch.optim module. All you need to do is to create an optimizer variable and call its `.step` method during training. This will automatically update the weights of your network after you have computed the gradients with the `loss.backward` call."
      ]
    },
    {
      "metadata": {
        "id": "XbSSNEN6shYu",
        "colab_type": "code",
        "colab": {}
      },
      "cell_type": "code",
      "source": [
        "# this will be the function we use later to calculate the cross entropy loss\n",
        "#loss_function = nn.CrossEntropyLoss() # use this instead if you don't use softmax activations\n",
        "loss_function = nn.NLLLoss()\n",
        "optimizer = optim.SGD(model.parameters(), lr=0.001, momentum=0.9) # lr - learning rate"
      ],
      "execution_count": 0,
      "outputs": []
    },
    {
      "metadata": {
        "id": "L55dKJLmsgI3",
        "colab_type": "text"
      },
      "cell_type": "markdown",
      "source": [
        "## How to choose your learning rate?\n",
        "\n",
        "Hyperparameter - not-leranable parameter and picked manually in the begging of training \\\\\n",
        "Try and see what works best \\\\\n",
        "\n",
        "Check behavious: \n",
        "1. Simple_FC with lr = 0.01, 0.001, 0.0001\n",
        "2. Complex_FC with lr = 0.01, 0.001, 0.0001\n",
        "3. CNN with lr = 0.1, 0.01 \n",
        "\n",
        "![alt text](http://cs231n.github.io/assets/nn3/learningrates.jpeg)\n",
        "\n",
        "## What is momentum?\n",
        " - running average of previous updates! Small oscillations \n",
        " \n",
        " `V = momentum*V + (1-momentum)*gradient_of_parameters`\n",
        " \n",
        "![alt text](https://cdn-images-1.medium.com/max/1600/1*5-GPmnonHVQiIj2EPG3Fgw.png)\n",
        "\n",
        "Without Momentum -> \n",
        "\n",
        "```\n",
        "update = learning_rate * gradient_of_parameters\n",
        "parameters = parameters - update\n",
        "\n",
        "```\n",
        "\n",
        "![alt text](https://qph.fs.quoracdn.net/main-qimg-7adad11c6ee947a96e917e2a8205392d)\n",
        "\n",
        "With Momentum \n",
        "```\n",
        "V = momentum*V + (1-momentum)*gradient_of_parameters\n",
        "parameters = parameters - learning_rate * V\n",
        "\n",
        "```\n",
        "\n",
        "![alt text](https://deeplearning4j.org/img/updater_2.png)"
      ]
    },
    {
      "metadata": {
        "id": "5_h8ZKz4acAq",
        "colab_type": "text"
      },
      "cell_type": "markdown",
      "source": [
        "# 4. Train the network"
      ]
    },
    {
      "metadata": {
        "id": "JgyRYxcwvwvM",
        "colab_type": "code",
        "outputId": "66ed8288-d022-45b9-ca36-c5c0a9aa029a",
        "colab": {
          "base_uri": "https://localhost:8080/",
          "height": 34
        }
      },
      "cell_type": "code",
      "source": [
        "def train(model, device, train_loader, loss_function, optimizer, epoch):\n",
        "    model.train()\n",
        "    for batch_idx, (data, target) in enumerate(train_loader):\n",
        "        data, target = data.to(device), target.to(device)\n",
        "        # data has a batch of images\n",
        "        # target is a batch of corresponding training labels\n",
        "        optimizer.zero_grad() # initialize all the gradients with zeros\n",
        "        output = model(data) # compute the network's predictions for the batch of images\n",
        "        loss = loss_function(output, target) # here we calculate the loss value\n",
        "        loss.backward() # compute the gradients for all the weights of the network automatically!\n",
        "        optimizer.step() # here we actually update the network's weights\n",
        "        if batch_idx % 100 == 0:\n",
        "            print('Train Epoch: {} [{}/{} ({:.0f}%)]\\tLoss: {:.6f}'.format(\n",
        "                epoch, batch_idx * len(data), len(train_loader.dataset),\n",
        "                100. * batch_idx / len(train_loader), loss.item()))         \n",
        "print('Training method loaded!')"
      ],
      "execution_count": 10,
      "outputs": [
        {
          "output_type": "stream",
          "text": [
            "Training method loaded!\n"
          ],
          "name": "stdout"
        }
      ]
    },
    {
      "metadata": {
        "id": "imjVX-K4TPRh",
        "colab_type": "code",
        "outputId": "5b08883e-ff68-4c23-ba43-d124401539c2",
        "colab": {
          "base_uri": "https://localhost:8080/",
          "height": 1054
        }
      },
      "cell_type": "code",
      "source": [
        "num_epochs = 5\n",
        "for epoch in range(1, num_epochs + 1):\n",
        "        train(model, device, train_loader, loss_function, optimizer, epoch)\n",
        "print('Training finished')"
      ],
      "execution_count": 11,
      "outputs": [
        {
          "output_type": "stream",
          "text": [
            "Train Epoch: 1 [0/60000 (0%)]\tLoss: 2.386618\n",
            "Train Epoch: 1 [5000/60000 (8%)]\tLoss: 0.619948\n",
            "Train Epoch: 1 [10000/60000 (17%)]\tLoss: 0.562826\n",
            "Train Epoch: 1 [15000/60000 (25%)]\tLoss: 0.383312\n",
            "Train Epoch: 1 [20000/60000 (33%)]\tLoss: 0.361996\n",
            "Train Epoch: 1 [25000/60000 (42%)]\tLoss: 0.414902\n",
            "Train Epoch: 1 [30000/60000 (50%)]\tLoss: 0.474092\n",
            "Train Epoch: 1 [35000/60000 (58%)]\tLoss: 0.264486\n",
            "Train Epoch: 1 [40000/60000 (67%)]\tLoss: 0.353208\n",
            "Train Epoch: 1 [45000/60000 (75%)]\tLoss: 0.121874\n",
            "Train Epoch: 1 [50000/60000 (83%)]\tLoss: 0.311655\n",
            "Train Epoch: 1 [55000/60000 (92%)]\tLoss: 0.218012\n",
            "Train Epoch: 2 [0/60000 (0%)]\tLoss: 0.272649\n",
            "Train Epoch: 2 [5000/60000 (8%)]\tLoss: 0.429684\n",
            "Train Epoch: 2 [10000/60000 (17%)]\tLoss: 0.327304\n",
            "Train Epoch: 2 [15000/60000 (25%)]\tLoss: 0.403604\n",
            "Train Epoch: 2 [20000/60000 (33%)]\tLoss: 0.237556\n",
            "Train Epoch: 2 [25000/60000 (42%)]\tLoss: 0.395428\n",
            "Train Epoch: 2 [30000/60000 (50%)]\tLoss: 0.282789\n",
            "Train Epoch: 2 [35000/60000 (58%)]\tLoss: 0.309991\n",
            "Train Epoch: 2 [40000/60000 (67%)]\tLoss: 0.360098\n",
            "Train Epoch: 2 [45000/60000 (75%)]\tLoss: 0.590675\n",
            "Train Epoch: 2 [50000/60000 (83%)]\tLoss: 0.632152\n",
            "Train Epoch: 2 [55000/60000 (92%)]\tLoss: 0.275309\n",
            "Train Epoch: 3 [0/60000 (0%)]\tLoss: 0.449557\n",
            "Train Epoch: 3 [5000/60000 (8%)]\tLoss: 0.323097\n",
            "Train Epoch: 3 [10000/60000 (17%)]\tLoss: 0.272562\n",
            "Train Epoch: 3 [15000/60000 (25%)]\tLoss: 0.414220\n",
            "Train Epoch: 3 [20000/60000 (33%)]\tLoss: 0.715954\n",
            "Train Epoch: 3 [25000/60000 (42%)]\tLoss: 0.354762\n",
            "Train Epoch: 3 [30000/60000 (50%)]\tLoss: 0.424153\n",
            "Train Epoch: 3 [35000/60000 (58%)]\tLoss: 0.109067\n",
            "Train Epoch: 3 [40000/60000 (67%)]\tLoss: 0.391095\n",
            "Train Epoch: 3 [45000/60000 (75%)]\tLoss: 0.375726\n",
            "Train Epoch: 3 [50000/60000 (83%)]\tLoss: 0.216454\n",
            "Train Epoch: 3 [55000/60000 (92%)]\tLoss: 0.432939\n",
            "Train Epoch: 4 [0/60000 (0%)]\tLoss: 0.611678\n",
            "Train Epoch: 4 [5000/60000 (8%)]\tLoss: 0.627049\n",
            "Train Epoch: 4 [10000/60000 (17%)]\tLoss: 0.209659\n",
            "Train Epoch: 4 [15000/60000 (25%)]\tLoss: 0.178257\n",
            "Train Epoch: 4 [20000/60000 (33%)]\tLoss: 0.301402\n",
            "Train Epoch: 4 [25000/60000 (42%)]\tLoss: 0.318150\n",
            "Train Epoch: 4 [30000/60000 (50%)]\tLoss: 0.616147\n",
            "Train Epoch: 4 [35000/60000 (58%)]\tLoss: 0.155011\n",
            "Train Epoch: 4 [40000/60000 (67%)]\tLoss: 0.146967\n",
            "Train Epoch: 4 [45000/60000 (75%)]\tLoss: 0.205371\n",
            "Train Epoch: 4 [50000/60000 (83%)]\tLoss: 0.131106\n",
            "Train Epoch: 4 [55000/60000 (92%)]\tLoss: 0.269192\n",
            "Train Epoch: 5 [0/60000 (0%)]\tLoss: 0.312712\n",
            "Train Epoch: 5 [5000/60000 (8%)]\tLoss: 0.526426\n",
            "Train Epoch: 5 [10000/60000 (17%)]\tLoss: 0.171730\n",
            "Train Epoch: 5 [15000/60000 (25%)]\tLoss: 0.303603\n",
            "Train Epoch: 5 [20000/60000 (33%)]\tLoss: 0.312733\n",
            "Train Epoch: 5 [25000/60000 (42%)]\tLoss: 0.135796\n",
            "Train Epoch: 5 [30000/60000 (50%)]\tLoss: 0.386977\n",
            "Train Epoch: 5 [35000/60000 (58%)]\tLoss: 0.372546\n",
            "Train Epoch: 5 [40000/60000 (67%)]\tLoss: 0.152869\n",
            "Train Epoch: 5 [45000/60000 (75%)]\tLoss: 0.163207\n",
            "Train Epoch: 5 [50000/60000 (83%)]\tLoss: 0.269262\n",
            "Train Epoch: 5 [55000/60000 (92%)]\tLoss: 0.344366\n",
            "Training finished\n"
          ],
          "name": "stdout"
        }
      ]
    },
    {
      "metadata": {
        "id": "9wrJV9Rkaj2Q",
        "colab_type": "text"
      },
      "cell_type": "markdown",
      "source": [
        "# 5. Test on the remaining 10000 images\n",
        "here we have a method to calculate how well our trained network can work on the images that it has not seen during training."
      ]
    },
    {
      "metadata": {
        "id": "dWZ9ofjwHFky",
        "colab_type": "code",
        "outputId": "4e33ca57-5981-4adc-d7f1-c155e76393b0",
        "colab": {
          "base_uri": "https://localhost:8080/",
          "height": 34
        }
      },
      "cell_type": "code",
      "source": [
        "def test(model, device, test_loader):\n",
        "    model.eval()\n",
        "    correct = 0\n",
        "    total = 0\n",
        "    for batch_idx, (inputs, targets) in enumerate(test_loader):\n",
        "        inputs, targets = inputs.to(device), targets.to(device)\n",
        "        outputs = model(inputs)\n",
        "        _, predicted = torch.max(outputs.data, 1)\n",
        "        total += targets.size(0)\n",
        "        correct += (predicted == targets).sum().item()\n",
        "        if batch_idx % 10 == 0:\n",
        "            print('[{}/{}]\\t'\n",
        "                  'Correct: {}\\t'\n",
        "                  'Total: {}\\t'.format(\n",
        "                batch_idx,\n",
        "                len(test_loader),\n",
        "                correct,\n",
        "                total))\n",
        "    if len(test_loader.dataset)==0:\n",
        "        print(\"Error: test data have not been loaded correctly\")\n",
        "        return -1\n",
        "    \n",
        "    accuracy = 100.0 * correct / total\n",
        "\n",
        "    print('Accuracy of the network on the test images: {:.3f}%; correct: {} out of {}'.format(\n",
        "        accuracy, correct, total))\n",
        "    \n",
        "print(\"Test method is loaded successfully\")    "
      ],
      "execution_count": 12,
      "outputs": [
        {
          "output_type": "stream",
          "text": [
            "Test method is loaded successfully\n"
          ],
          "name": "stdout"
        }
      ]
    },
    {
      "metadata": {
        "id": "UtsiTuELHa4N",
        "colab_type": "text"
      },
      "cell_type": "markdown",
      "source": [
        "## Call the test function to get the accuracy of our model on the test data"
      ]
    },
    {
      "metadata": {
        "id": "fCaUYDDZUnz9",
        "colab_type": "code",
        "outputId": "95d3bc3f-3bec-4ea2-8307-3c6165d2fedd",
        "colab": {
          "base_uri": "https://localhost:8080/",
          "height": 204
        }
      },
      "cell_type": "code",
      "source": [
        "test(model, device, test_loader)"
      ],
      "execution_count": 0,
      "outputs": [
        {
          "output_type": "stream",
          "text": [
            "[0/100]\tCorrect: 91\tTotal: 100\t\n",
            "[10/100]\tCorrect: 1010\tTotal: 1100\t\n",
            "[20/100]\tCorrect: 1922\tTotal: 2100\t\n",
            "[30/100]\tCorrect: 2834\tTotal: 3100\t\n",
            "[40/100]\tCorrect: 3752\tTotal: 4100\t\n",
            "[50/100]\tCorrect: 4667\tTotal: 5100\t\n",
            "[60/100]\tCorrect: 5601\tTotal: 6100\t\n",
            "[70/100]\tCorrect: 6535\tTotal: 7100\t\n",
            "[80/100]\tCorrect: 7456\tTotal: 8100\t\n",
            "[90/100]\tCorrect: 8383\tTotal: 9100\t\n",
            "Accuracy of the network on the test images: 92.080%; correct: 9208 out of 10000\n"
          ],
          "name": "stdout"
        }
      ]
    },
    {
      "metadata": {
        "id": "pavpnieRGmIN",
        "colab_type": "text"
      },
      "cell_type": "markdown",
      "source": [
        "## How does optimization work?\n",
        "![alt text](https://cdn-images-1.medium.com/max/1600/1*bl1EuPH_XEGvMcMW6ZloNg.jpeg)"
      ]
    },
    {
      "metadata": {
        "id": "2GfK1kOxHmCn",
        "colab_type": "text"
      },
      "cell_type": "markdown",
      "source": [
        "# Now let's try other networks"
      ]
    },
    {
      "metadata": {
        "id": "801raMJ1ONvu",
        "colab_type": "code",
        "colab": {}
      },
      "cell_type": "code",
      "source": [
        ""
      ],
      "execution_count": 0,
      "outputs": []
    },
    {
      "metadata": {
        "id": "HUVDENAMg-s2",
        "colab_type": "text"
      },
      "cell_type": "markdown",
      "source": [
        "## Convolutional net with 2 conv layers\n",
        "### Conv2d\n",
        "A convolutional layer in PyTorch can be created using the nn.Conv2d function.\n",
        "Here are its some essential parameters:\n",
        "1. in_channels -  depth of the input (D1)\n",
        "2. out_channels - depth of the output (D2)\n",
        "3. kernel_size - defines both height and with of the filter (F)\n",
        "4. padding - set to 0 by default, which means no zero padding\n",
        "5. stride - set to 1 by default\n",
        "\n",
        "Example of initializing the conv2d module:\n",
        "\n",
        "```\n",
        "in_channels = 1\n",
        "out_channels = 10\n",
        "kernel_size = 5\n",
        "nn.conv2d(in_channels, out_channels, kernel_size)\n",
        "```\n",
        "The function then can be called on the 4D input tensor of size nSamples x nChannels x Height x Width, which is one batch (nSamples) of images. The call happens in the ```forward``` method of our model \n",
        "### Max pooling\n",
        "It is common to periodically insert a Pooling layer in-between successive Conv layers in a ConvNet architecture. Its function is to progressively reduce the spatial size of the representation to reduce the amount of parameters and computation in the network, and hence to also control overfitting.\n",
        "\n",
        "This is mainly done to fight overfitting and to lower the computational cost by reducing the number of parameters to learn. This also provides a basic translation invariance to the internal representation.\n",
        "\n",
        "Max pooling is done by applying a max filter to (usually) non-overlapping subregions of the initial representation. The most commonly used is the 2x2 max filter applied with a stride S = 2:\n",
        "![alt text](http://cs231n.github.io/assets/cnn/maxpool.jpeg)\n",
        "\n",
        "### Note! \n",
        "PyTorch `torch.nn.functional.max_pool2d` function has 2 required parameters:\n",
        "* `input` - the input image or feature map\n",
        "* `kernel_size` - the size of the max filter (we will use 2)\n"
      ]
    },
    {
      "metadata": {
        "id": "00bGzwQ73L-b",
        "colab_type": "text"
      },
      "cell_type": "markdown",
      "source": [
        "### In the following section we can check the shapes of different feature maps starting from the input 4D tensor (nSamples x nChannels x Height x Width) and going all the way to the output activations."
      ]
    },
    {
      "metadata": {
        "id": "rcGmdabk9h6E",
        "colab_type": "code",
        "outputId": "1fcd4b3f-277f-45c5-b669-97625f815770",
        "colab": {
          "base_uri": "https://localhost:8080/",
          "height": 170
        }
      },
      "cell_type": "code",
      "source": [
        "class exampleCNN(nn.Module):\n",
        "    def __init__(self):\n",
        "        super().__init__()\n",
        "        self.conv1 = nn.Conv2d(1, 10, kernel_size=5)  # first convolutional layer\n",
        "        self.conv2 = nn.Conv2d(10, 20, kernel_size=5) # second convolutional layer\n",
        "        self.fc1 = nn.Linear(20*4*4, 10) # fully connected layer\n",
        "\n",
        "    def forward(self, x):\n",
        "        print(\"Original input size:\\t {}\".format(x.shape))\n",
        "        x = self.conv1(x)\n",
        "        print(\"Size after conv1:\\t {}\".format(x.shape))\n",
        "        x = F.max_pool2d(x, 2)\n",
        "        print(\"Size after max pool 1:\\t {}\".format(x.shape))\n",
        "        x = F.relu(x)\n",
        "        x = self.conv2(x)\n",
        "        print(\"Size after conv2:\\t {}\".format(x.shape))\n",
        "        x = F.max_pool2d(x, 2)\n",
        "        print(\"Size after max pool 2:\\t {}\".format(x.shape))\n",
        "        x = F.relu(x)\n",
        "        x = x.view(-1, 16*20)\n",
        "        print(\"Size before fc1:\\t {}\".format(x.shape))\n",
        "        x = self.fc1(x)\n",
        "        print(\"Size after fc1:\\t\\t {}\".format(x.shape))\n",
        "        return F.log_softmax(x, dim=1)   \n",
        "    \n",
        "example_model = exampleCNN().to(device)\n",
        "\n",
        "batch = torch.stack((sample,)*1, 0) # just one image in a batch for example\n",
        "batch.shape\n",
        "example_model(batch)"
      ],
      "execution_count": 14,
      "outputs": [
        {
          "output_type": "stream",
          "text": [
            "Original input size:\t torch.Size([1, 1, 28, 28])\n",
            "Size after conv1:\t torch.Size([1, 10, 24, 24])\n",
            "Size after max pool 1:\t torch.Size([1, 10, 12, 12])\n",
            "Size after conv2:\t torch.Size([1, 20, 8, 8])\n",
            "Size after max pool 2:\t torch.Size([1, 20, 4, 4])\n",
            "Size before fc1:\t torch.Size([1, 320])\n",
            "Size after fc1:\t\t torch.Size([1, 10])\n"
          ],
          "name": "stdout"
        },
        {
          "output_type": "execute_result",
          "data": {
            "text/plain": [
              "tensor([[-2.7785, -2.1833, -2.3476, -2.7450, -2.3958, -2.4470, -1.8635, -2.0824,\n",
              "         -2.5188, -2.0605]], grad_fn=<LogSoftmaxBackward>)"
            ]
          },
          "metadata": {
            "tags": []
          },
          "execution_count": 14
        }
      ]
    },
    {
      "metadata": {
        "id": "rjaL4Pe94SVk",
        "colab_type": "text"
      },
      "cell_type": "markdown",
      "source": [
        "### 2b. Define a CNN network\n",
        "Now let's rewrite the same network without the ```print``` calls, so that they won't clutter our log when we are doing training"
      ]
    },
    {
      "metadata": {
        "id": "OCP42dxRlCUs",
        "colab_type": "code",
        "colab": {}
      },
      "cell_type": "code",
      "source": [
        "class simpleCNN(nn.Module):\n",
        "    def __init__(self):\n",
        "        super(simpleCNN, self).__init__()\n",
        "        self.conv1 = nn.Conv2d(1, 10, kernel_size=5)  # first convolutional layer\n",
        "        self.conv2 = nn.Conv2d(10, 20, kernel_size=5) # second convolutional layer\n",
        "        self.fc1 = nn.Linear(320, 10) # fully connected layer, \n",
        "        # why the first parameter is set to 320??? Think about it\n",
        "\n",
        "    def forward(self, x):\n",
        "        x = self.conv1(x)\n",
        "        x = F.max_pool2d(x, 2)\n",
        "        x = F.relu(x)\n",
        "        x = self.conv2(x)\n",
        "        x = F.max_pool2d(x, 2)\n",
        "        x = F.relu(x)\n",
        "        x = x.view(-1, 320)\n",
        "        x = self.fc1(x)\n",
        "        return F.log_softmax(x, dim=1)   \n",
        "    \n",
        "cnn_model = simpleCNN().to(device) "
      ],
      "execution_count": 0,
      "outputs": []
    },
    {
      "metadata": {
        "id": "wtkaAUdtEK3p",
        "colab_type": "text"
      },
      "cell_type": "markdown",
      "source": [
        "### 3b. Define the Loss and optimizer\n",
        "### 4b. Train the network"
      ]
    },
    {
      "metadata": {
        "id": "vjoEfggWEK_P",
        "colab_type": "code",
        "outputId": "8464df7d-8836-4013-cc48-eb6f08f46034",
        "colab": {
          "base_uri": "https://localhost:8080/",
          "height": 799
        }
      },
      "cell_type": "code",
      "source": [
        "loss_function = nn.NLLLoss()\n",
        "optimizer = optim.SGD(cnn_model.parameters(), lr=0.001, momentum=0.9) # lr - learning rate\n",
        "num_epochs = 5\n",
        "for epoch in range(1, num_epochs + 1):\n",
        "        train(cnn_model, device, train_loader, loss_function, optimizer, epoch)\n",
        "print('Training finished')        "
      ],
      "execution_count": 0,
      "outputs": [
        {
          "output_type": "stream",
          "text": [
            "Train Epoch: 1 [0/60000 (0%)]\tLoss: 2.297239\n",
            "Train Epoch: 1 [5000/60000 (8%)]\tLoss: 1.346905\n",
            "Train Epoch: 1 [10000/60000 (17%)]\tLoss: 0.402406\n",
            "Train Epoch: 1 [15000/60000 (25%)]\tLoss: 0.345681\n",
            "Train Epoch: 1 [20000/60000 (33%)]\tLoss: 0.372023\n",
            "Train Epoch: 1 [25000/60000 (42%)]\tLoss: 0.188687\n",
            "Train Epoch: 1 [30000/60000 (50%)]\tLoss: 0.135336\n",
            "Train Epoch: 1 [35000/60000 (58%)]\tLoss: 0.345981\n",
            "Train Epoch: 1 [40000/60000 (67%)]\tLoss: 0.091861\n",
            "Train Epoch: 1 [45000/60000 (75%)]\tLoss: 0.178510\n",
            "Train Epoch: 1 [50000/60000 (83%)]\tLoss: 0.101380\n",
            "Train Epoch: 1 [55000/60000 (92%)]\tLoss: 0.122395\n",
            "Train Epoch: 2 [0/60000 (0%)]\tLoss: 0.227132\n",
            "Train Epoch: 2 [5000/60000 (8%)]\tLoss: 0.184611\n",
            "Train Epoch: 2 [10000/60000 (17%)]\tLoss: 0.145423\n",
            "Train Epoch: 2 [15000/60000 (25%)]\tLoss: 0.179858\n",
            "Train Epoch: 2 [20000/60000 (33%)]\tLoss: 0.128512\n",
            "Train Epoch: 2 [25000/60000 (42%)]\tLoss: 0.059347\n",
            "Train Epoch: 2 [30000/60000 (50%)]\tLoss: 0.033392\n",
            "Train Epoch: 2 [35000/60000 (58%)]\tLoss: 0.104461\n",
            "Train Epoch: 2 [40000/60000 (67%)]\tLoss: 0.101375\n",
            "Train Epoch: 2 [45000/60000 (75%)]\tLoss: 0.072321\n",
            "Train Epoch: 2 [50000/60000 (83%)]\tLoss: 0.271011\n",
            "Train Epoch: 2 [55000/60000 (92%)]\tLoss: 0.029502\n",
            "Train Epoch: 3 [0/60000 (0%)]\tLoss: 0.025379\n",
            "Train Epoch: 3 [5000/60000 (8%)]\tLoss: 0.206340\n",
            "Train Epoch: 3 [10000/60000 (17%)]\tLoss: 0.233159\n",
            "Train Epoch: 3 [15000/60000 (25%)]\tLoss: 0.107555\n",
            "Train Epoch: 3 [20000/60000 (33%)]\tLoss: 0.023083\n",
            "Train Epoch: 3 [25000/60000 (42%)]\tLoss: 0.049888\n",
            "Train Epoch: 3 [30000/60000 (50%)]\tLoss: 0.059852\n",
            "Train Epoch: 3 [35000/60000 (58%)]\tLoss: 0.010417\n",
            "Train Epoch: 3 [40000/60000 (67%)]\tLoss: 0.013353\n",
            "Train Epoch: 3 [45000/60000 (75%)]\tLoss: 0.222854\n",
            "Train Epoch: 3 [50000/60000 (83%)]\tLoss: 0.077013\n",
            "Train Epoch: 3 [55000/60000 (92%)]\tLoss: 0.074137\n",
            "Train Epoch: 4 [0/60000 (0%)]\tLoss: 0.041765\n",
            "Train Epoch: 4 [5000/60000 (8%)]\tLoss: 0.037701\n",
            "Train Epoch: 4 [10000/60000 (17%)]\tLoss: 0.029200\n",
            "Train Epoch: 4 [15000/60000 (25%)]\tLoss: 0.082133\n",
            "Train Epoch: 4 [20000/60000 (33%)]\tLoss: 0.009466\n",
            "Train Epoch: 4 [25000/60000 (42%)]\tLoss: 0.065657\n",
            "Train Epoch: 4 [30000/60000 (50%)]\tLoss: 0.058837\n",
            "Train Epoch: 4 [35000/60000 (58%)]\tLoss: 0.114234\n",
            "Train Epoch: 4 [40000/60000 (67%)]\tLoss: 0.061044\n",
            "Train Epoch: 4 [45000/60000 (75%)]\tLoss: 0.024914\n"
          ],
          "name": "stdout"
        }
      ]
    },
    {
      "metadata": {
        "id": "V0HMgqycLf7P",
        "colab_type": "text"
      },
      "cell_type": "markdown",
      "source": [
        "### 5b. and test it to get the final accuracy"
      ]
    },
    {
      "metadata": {
        "id": "FgfGjVSyLlU7",
        "colab_type": "code",
        "outputId": "e0e09502-54f8-496e-ede1-a344ceb30fe1",
        "colab": {
          "base_uri": "https://localhost:8080/",
          "height": 204
        }
      },
      "cell_type": "code",
      "source": [
        "test(cnn_model, device, test_loader)"
      ],
      "execution_count": 0,
      "outputs": [
        {
          "output_type": "stream",
          "text": [
            "[0/100]\tCorrect: 98\tTotal: 100\t\n",
            "[10/100]\tCorrect: 1085\tTotal: 1100\t\n",
            "[20/100]\tCorrect: 2070\tTotal: 2100\t\n",
            "[30/100]\tCorrect: 3056\tTotal: 3100\t\n",
            "[40/100]\tCorrect: 4037\tTotal: 4100\t\n",
            "[50/100]\tCorrect: 5024\tTotal: 5100\t\n",
            "[60/100]\tCorrect: 6004\tTotal: 6100\t\n",
            "[70/100]\tCorrect: 6984\tTotal: 7100\t\n",
            "[80/100]\tCorrect: 7968\tTotal: 8100\t\n",
            "[90/100]\tCorrect: 8956\tTotal: 9100\t\n",
            "Accuracy of the network on the test images: 98.410%; correct: 9841 out of 10000\n"
          ],
          "name": "stdout"
        }
      ]
    },
    {
      "metadata": {
        "id": "ccSIhvyPhEzf",
        "colab_type": "text"
      },
      "cell_type": "markdown",
      "source": [
        "## [Optional] Your beast network that will get more than 99% accuracy on the test split\n",
        "Your code here! Modify the method below. You can start with the suggested code or rewrite your own."
      ]
    },
    {
      "metadata": {
        "id": "QfqKvnCGhHqR",
        "colab_type": "code",
        "colab": {}
      },
      "cell_type": "code",
      "source": [
        "class CNN(nn.Module):\n",
        "    def __init__(self):\n",
        "        ########################################################################\n",
        "        # modify code here:\n",
        "        super(CNN, self).__init__()\n",
        "        self.conv1 = nn.Conv2d(1, 10, kernel_size=5)  # first convolutional layer\n",
        "        self.conv2 = nn.Conv2d(10, 20, kernel_size=5) # second convolutional layer\n",
        "        self.fc1 = nn.Linear(320, 50) # fully connected layer 1\n",
        "        self.fc2 = nn.Linear(50, 10) # fully connected layer 2\n",
        "        ########################################################################\n",
        "\n",
        "    def forward(self, x):\n",
        "        ########################################################################\n",
        "        # modify code here:\n",
        "        x = self.conv1(x)\n",
        "        x = F.max_pool2d(x, 2)\n",
        "        x = F.relu(x)\n",
        "        x = self.conv2(x)\n",
        "        x = F.max_pool2d(x, 2)\n",
        "        x = F.relu(x)\n",
        "        x = x.view(-1, 320)\n",
        "        x = F.relu(self.fc1(x))\n",
        "        x = F.dropout(x, training=self.training)\n",
        "        x = self.fc2(x)\n",
        "        ########################################################################\n",
        "        return F.log_softmax(x, dim=1)\n",
        "    \n",
        "cnn_model_2 = CNN().to(device)    "
      ],
      "execution_count": 0,
      "outputs": []
    },
    {
      "metadata": {
        "colab_type": "text",
        "id": "I-guaSYiLpuy"
      },
      "cell_type": "markdown",
      "source": [
        "### 3c. Define a Loss and an Optimizer\n",
        "### 4c. Train the network"
      ]
    },
    {
      "metadata": {
        "colab_type": "code",
        "id": "GcWWgJhTLpu0",
        "outputId": "1231a8f0-7e7b-49a0-db99-995459ea67a9",
        "colab": {
          "base_uri": "https://localhost:8080/",
          "height": 1054
        }
      },
      "cell_type": "code",
      "source": [
        "loss_function = nn.NLLLoss()\n",
        "optimizer = optim.SGD(cnn_model_2.parameters(), lr=0.001, momentum=0.9) # lr - learning rate\n",
        "num_epochs = 5\n",
        "for epoch in range(1, num_epochs + 1):\n",
        "        train(cnn_model_2, device, train_loader, loss_function, optimizer, epoch)\n",
        "print('Training finished') "
      ],
      "execution_count": 0,
      "outputs": [
        {
          "output_type": "stream",
          "text": [
            "Train Epoch: 1 [0/60000 (0%)]\tLoss: 2.298540\n",
            "Train Epoch: 1 [5000/60000 (8%)]\tLoss: 2.135333\n",
            "Train Epoch: 1 [10000/60000 (17%)]\tLoss: 1.657676\n",
            "Train Epoch: 1 [15000/60000 (25%)]\tLoss: 0.887301\n",
            "Train Epoch: 1 [20000/60000 (33%)]\tLoss: 1.003688\n",
            "Train Epoch: 1 [25000/60000 (42%)]\tLoss: 0.896496\n",
            "Train Epoch: 1 [30000/60000 (50%)]\tLoss: 1.069690\n",
            "Train Epoch: 1 [35000/60000 (58%)]\tLoss: 0.728462\n",
            "Train Epoch: 1 [40000/60000 (67%)]\tLoss: 0.427889\n",
            "Train Epoch: 1 [45000/60000 (75%)]\tLoss: 0.543398\n",
            "Train Epoch: 1 [50000/60000 (83%)]\tLoss: 0.496777\n",
            "Train Epoch: 1 [55000/60000 (92%)]\tLoss: 0.387470\n",
            "Train Epoch: 2 [0/60000 (0%)]\tLoss: 0.296737\n",
            "Train Epoch: 2 [5000/60000 (8%)]\tLoss: 0.328595\n",
            "Train Epoch: 2 [10000/60000 (17%)]\tLoss: 0.374528\n",
            "Train Epoch: 2 [15000/60000 (25%)]\tLoss: 0.238472\n",
            "Train Epoch: 2 [20000/60000 (33%)]\tLoss: 0.252362\n",
            "Train Epoch: 2 [25000/60000 (42%)]\tLoss: 0.192033\n",
            "Train Epoch: 2 [30000/60000 (50%)]\tLoss: 0.274210\n",
            "Train Epoch: 2 [35000/60000 (58%)]\tLoss: 0.145280\n",
            "Train Epoch: 2 [40000/60000 (67%)]\tLoss: 0.293139\n",
            "Train Epoch: 2 [45000/60000 (75%)]\tLoss: 0.235273\n",
            "Train Epoch: 2 [50000/60000 (83%)]\tLoss: 0.278532\n",
            "Train Epoch: 2 [55000/60000 (92%)]\tLoss: 0.423786\n",
            "Train Epoch: 3 [0/60000 (0%)]\tLoss: 0.259374\n",
            "Train Epoch: 3 [5000/60000 (8%)]\tLoss: 0.294242\n",
            "Train Epoch: 3 [10000/60000 (17%)]\tLoss: 0.323099\n",
            "Train Epoch: 3 [15000/60000 (25%)]\tLoss: 0.331442\n",
            "Train Epoch: 3 [20000/60000 (33%)]\tLoss: 0.181374\n",
            "Train Epoch: 3 [25000/60000 (42%)]\tLoss: 0.210450\n",
            "Train Epoch: 3 [30000/60000 (50%)]\tLoss: 0.254444\n",
            "Train Epoch: 3 [35000/60000 (58%)]\tLoss: 0.254797\n",
            "Train Epoch: 3 [40000/60000 (67%)]\tLoss: 0.194790\n",
            "Train Epoch: 3 [45000/60000 (75%)]\tLoss: 0.251241\n",
            "Train Epoch: 3 [50000/60000 (83%)]\tLoss: 0.364036\n",
            "Train Epoch: 3 [55000/60000 (92%)]\tLoss: 0.260216\n",
            "Train Epoch: 4 [0/60000 (0%)]\tLoss: 0.254954\n",
            "Train Epoch: 4 [5000/60000 (8%)]\tLoss: 0.144476\n",
            "Train Epoch: 4 [10000/60000 (17%)]\tLoss: 0.253725\n",
            "Train Epoch: 4 [15000/60000 (25%)]\tLoss: 0.180761\n",
            "Train Epoch: 4 [20000/60000 (33%)]\tLoss: 0.047012\n",
            "Train Epoch: 4 [25000/60000 (42%)]\tLoss: 0.264935\n",
            "Train Epoch: 4 [30000/60000 (50%)]\tLoss: 0.171387\n",
            "Train Epoch: 4 [35000/60000 (58%)]\tLoss: 0.078035\n",
            "Train Epoch: 4 [40000/60000 (67%)]\tLoss: 0.093534\n",
            "Train Epoch: 4 [45000/60000 (75%)]\tLoss: 0.064891\n",
            "Train Epoch: 4 [50000/60000 (83%)]\tLoss: 0.128420\n",
            "Train Epoch: 4 [55000/60000 (92%)]\tLoss: 0.252672\n",
            "Train Epoch: 5 [0/60000 (0%)]\tLoss: 0.080740\n",
            "Train Epoch: 5 [5000/60000 (8%)]\tLoss: 0.352351\n",
            "Train Epoch: 5 [10000/60000 (17%)]\tLoss: 0.102860\n",
            "Train Epoch: 5 [15000/60000 (25%)]\tLoss: 0.082849\n",
            "Train Epoch: 5 [20000/60000 (33%)]\tLoss: 0.141276\n",
            "Train Epoch: 5 [25000/60000 (42%)]\tLoss: 0.130089\n",
            "Train Epoch: 5 [30000/60000 (50%)]\tLoss: 0.212698\n",
            "Train Epoch: 5 [35000/60000 (58%)]\tLoss: 0.290681\n",
            "Train Epoch: 5 [40000/60000 (67%)]\tLoss: 0.384021\n",
            "Train Epoch: 5 [45000/60000 (75%)]\tLoss: 0.116988\n",
            "Train Epoch: 5 [50000/60000 (83%)]\tLoss: 0.111869\n",
            "Train Epoch: 5 [55000/60000 (92%)]\tLoss: 0.046356\n",
            "Training finished\n"
          ],
          "name": "stdout"
        }
      ]
    },
    {
      "metadata": {
        "colab_type": "text",
        "id": "zGVuZURqLpu2"
      },
      "cell_type": "markdown",
      "source": [
        "### 5c. and test it"
      ]
    },
    {
      "metadata": {
        "colab_type": "code",
        "id": "u9dsMdDlLpu3",
        "outputId": "0578e9ca-630a-4e5f-cf2a-5fd645f75283",
        "colab": {
          "base_uri": "https://localhost:8080/",
          "height": 204
        }
      },
      "cell_type": "code",
      "source": [
        "test(cnn_model_2, device, test_loader)"
      ],
      "execution_count": 0,
      "outputs": [
        {
          "output_type": "stream",
          "text": [
            "[0/100]\tCorrect: 99\tTotal: 100\t\n",
            "[10/100]\tCorrect: 1076\tTotal: 1100\t\n",
            "[20/100]\tCorrect: 2062\tTotal: 2100\t\n",
            "[30/100]\tCorrect: 3045\tTotal: 3100\t\n",
            "[40/100]\tCorrect: 4025\tTotal: 4100\t\n",
            "[50/100]\tCorrect: 5000\tTotal: 5100\t\n",
            "[60/100]\tCorrect: 5975\tTotal: 6100\t\n",
            "[70/100]\tCorrect: 6962\tTotal: 7100\t\n",
            "[80/100]\tCorrect: 7942\tTotal: 8100\t\n",
            "[90/100]\tCorrect: 8922\tTotal: 9100\t\n",
            "Accuracy of the network on the test images: 98.040%; correct: 9804 out of 10000\n"
          ],
          "name": "stdout"
        }
      ]
    }
  ]
}